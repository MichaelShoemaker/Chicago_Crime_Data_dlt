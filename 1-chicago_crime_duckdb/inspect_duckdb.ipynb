{
 "cells": [
  {
   "cell_type": "code",
   "execution_count": 35,
   "id": "d4fcda64",
   "metadata": {},
   "outputs": [],
   "source": [
    "import duckdb\n",
    "import pandas as pd"
   ]
  },
  {
   "cell_type": "code",
   "execution_count": 93,
   "id": "9f307f82",
   "metadata": {},
   "outputs": [],
   "source": [
    "con = duckdb.connect(\"../chicago_crime_pipeline.duckdb\")\n"
   ]
  },
  {
   "cell_type": "code",
   "execution_count": 86,
   "id": "b161e112",
   "metadata": {},
   "outputs": [],
   "source": [
    "# print(\"Schemas:\")\n",
    "# schemas = con.execute(\"SELECT schema_name FROM information_schema.schemata\").df()\n",
    "# display(schemas)"
   ]
  },
  {
   "cell_type": "code",
   "execution_count": 87,
   "id": "ddcca96a",
   "metadata": {},
   "outputs": [],
   "source": [
    "# print(\"Tables:\")\n",
    "# tables = con.execute(\"\"\"\n",
    "#     SELECT table_schema, table_name \n",
    "#     FROM information_schema.tables \n",
    "#     WHERE table_type = 'BASE TABLE'\n",
    "# \"\"\").df()\n",
    "# display(tables)"
   ]
  },
  {
   "cell_type": "code",
   "execution_count": 88,
   "id": "bedbf7c3",
   "metadata": {},
   "outputs": [],
   "source": [
    "# print(\"Table columns and data types:\")\n",
    "# for _, row in tables.iterrows():\n",
    "#     schema = row['table_schema']\n",
    "#     table = row['table_name']\n",
    "#     print(f\"\\n📌 Table: {schema}.{table}\")\n",
    "#     columns = con.execute(f\"\"\"\n",
    "#         SELECT column_name, data_type \n",
    "#         FROM information_schema.columns \n",
    "#         WHERE table_schema = '{schema}' AND table_name = '{table}'\n",
    "#     \"\"\").df()\n",
    "#     display(columns)\n"
   ]
  },
  {
   "cell_type": "code",
   "execution_count": 89,
   "id": "2ed7dca7",
   "metadata": {},
   "outputs": [],
   "source": [
    "# print(\"Table previews:\")\n",
    "# for _, row in tables.iterrows():\n",
    "#     schema = row['table_schema']\n",
    "#     table = row['table_name']\n",
    "#     print(f\"\\n🔎 Top rows from {schema}.{table}\")\n",
    "#     preview = con.execute(f'SELECT * FROM \"{schema}\".\"{table}\" LIMIT 5').df()\n",
    "#     display(preview)"
   ]
  },
  {
   "cell_type": "code",
   "execution_count": 79,
   "id": "bb89772a",
   "metadata": {},
   "outputs": [
    {
     "name": "stdout",
     "output_type": "stream",
     "text": [
      "Table row counts:\n",
      "chicago_crime_data.chicago_crime: 127272 rows\n",
      "chicago_crime_data._dlt_loads: 1 rows\n",
      "chicago_crime_data._dlt_pipeline_state: 1 rows\n",
      "chicago_crime_data._dlt_version: 1 rows\n",
      "chicago_crime_data_staging.chicago_crime: 127975 rows\n",
      "chicago_crime_data_staging._dlt_version: 1 rows\n"
     ]
    }
   ],
   "source": [
    "print(\"Table row counts:\")\n",
    "for _, row in tables.iterrows():\n",
    "    schema = row['table_schema']\n",
    "    table = row['table_name']\n",
    "    count = con.execute(f'SELECT COUNT(*) FROM \"{schema}\".\"{table}\"').fetchone()[0]\n",
    "    print(f\"{schema}.{table}: {count} rows\")"
   ]
  },
  {
   "cell_type": "code",
   "execution_count": 92,
   "id": "9a714c5c",
   "metadata": {},
   "outputs": [],
   "source": [
    "con.close()\n"
   ]
  },
  {
   "cell_type": "code",
   "execution_count": 13,
   "id": "76aea988",
   "metadata": {},
   "outputs": [],
   "source": [
    "import pandas as pd"
   ]
  },
  {
   "cell_type": "code",
   "execution_count": 74,
   "id": "d82daf84",
   "metadata": {},
   "outputs": [],
   "source": [
    "df = pd.read_csv('../Crimes_-_2025_20250728.csv')"
   ]
  },
  {
   "cell_type": "code",
   "execution_count": 76,
   "id": "1c6116c0",
   "metadata": {},
   "outputs": [
    {
     "data": {
      "text/plain": [
       "127975"
      ]
     },
     "execution_count": 76,
     "metadata": {},
     "output_type": "execute_result"
    }
   ],
   "source": [
    "df['ID'].nunique()"
   ]
  },
  {
   "cell_type": "code",
   "execution_count": 94,
   "id": "d1edc4b3",
   "metadata": {},
   "outputs": [],
   "source": [
    "existing_ids = set(con.execute(\"SELECT id FROM chicago_crime_data.chicago_crime\").fetchall())\n",
    "existing_ids_flat = set(int(t[0]) for t in existing_ids)\n",
    "\n",
    "# Filter rows from df where id is NOT in DuckDB\n",
    "missing_rows = df[~df['ID'].isin(existing_ids_flat)]"
   ]
  },
  {
   "cell_type": "code",
   "execution_count": null,
   "id": "43c8335f",
   "metadata": {},
   "outputs": [],
   "source": []
  }
 ],
 "metadata": {
  "kernelspec": {
   "display_name": "Python 3",
   "language": "python",
   "name": "python3"
  },
  "language_info": {
   "codemirror_mode": {
    "name": "ipython",
    "version": 3
   },
   "file_extension": ".py",
   "mimetype": "text/x-python",
   "name": "python",
   "nbconvert_exporter": "python",
   "pygments_lexer": "ipython3",
   "version": "3.10.12"
  }
 },
 "nbformat": 4,
 "nbformat_minor": 5
}
